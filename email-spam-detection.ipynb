{
 "cells": [
  {
   "cell_type": "code",
   "execution_count": 1,
   "id": "63202e71",
   "metadata": {
    "_cell_guid": "b1076dfc-b9ad-4769-8c92-a6c4dae69d19",
    "_uuid": "8f2839f25d086af736a60e9eeb907d3b93b6e0e5",
    "execution": {
     "iopub.execute_input": "2023-02-27T15:33:21.322626Z",
     "iopub.status.busy": "2023-02-27T15:33:21.322056Z",
     "iopub.status.idle": "2023-02-27T15:33:21.351920Z",
     "shell.execute_reply": "2023-02-27T15:33:21.350318Z"
    },
    "papermill": {
     "duration": 0.040183,
     "end_time": "2023-02-27T15:33:21.355008",
     "exception": false,
     "start_time": "2023-02-27T15:33:21.314825",
     "status": "completed"
    },
    "tags": []
   },
   "outputs": [
    {
     "name": "stdout",
     "output_type": "stream",
     "text": [
      "/kaggle/input/sms-spam-collection-dataset/spam.csv\n"
     ]
    }
   ],
   "source": [
    "# This Python 3 environment comes with many helpful analytics libraries installed\n",
    "# It is defined by the kaggle/python Docker image: https://github.com/kaggle/docker-python\n",
    "# For example, here's several helpful packages to load\n",
    "\n",
    "import numpy as np # linear algebra\n",
    "import pandas as pd # data processing, CSV file I/O (e.g. pd.read_csv)\n",
    "\n",
    "# Input data files are available in the read-only \"../input/\" directory\n",
    "# For example, running this (by clicking run or pressing Shift+Enter) will list all files under the input directory\n",
    "\n",
    "import os\n",
    "for dirname, _, filenames in os.walk('/kaggle/input'):\n",
    "    for filename in filenames:\n",
    "        print(os.path.join(dirname, filename))\n",
    "\n",
    "# You can write up to 20GB to the current directory (/kaggle/working/) that gets preserved as output when you create a version using \"Save & Run All\" \n",
    "# You can also write temporary files to /kaggle/temp/, but they won't be saved outside of the current session"
   ]
  },
  {
   "cell_type": "code",
   "execution_count": 2,
   "id": "8bc49e70",
   "metadata": {
    "execution": {
     "iopub.execute_input": "2023-02-27T15:33:21.365327Z",
     "iopub.status.busy": "2023-02-27T15:33:21.364871Z",
     "iopub.status.idle": "2023-02-27T15:33:22.795779Z",
     "shell.execute_reply": "2023-02-27T15:33:22.794193Z"
    },
    "papermill": {
     "duration": 1.43942,
     "end_time": "2023-02-27T15:33:22.798653",
     "exception": false,
     "start_time": "2023-02-27T15:33:21.359233",
     "status": "completed"
    },
    "tags": []
   },
   "outputs": [],
   "source": [
    "import numpy as np\n",
    "import pandas as pd\n",
    "import matplotlib.pyplot as plt\n",
    "import seaborn as sns\n",
    "from sklearn.utils import resample\n",
    "import seaborn as sb"
   ]
  },
  {
   "cell_type": "code",
   "execution_count": 3,
   "id": "28ddbaa0",
   "metadata": {
    "execution": {
     "iopub.execute_input": "2023-02-27T15:33:22.808767Z",
     "iopub.status.busy": "2023-02-27T15:33:22.808342Z",
     "iopub.status.idle": "2023-02-27T15:33:22.874620Z",
     "shell.execute_reply": "2023-02-27T15:33:22.873283Z"
    },
    "papermill": {
     "duration": 0.074532,
     "end_time": "2023-02-27T15:33:22.877328",
     "exception": false,
     "start_time": "2023-02-27T15:33:22.802796",
     "status": "completed"
    },
    "tags": []
   },
   "outputs": [
    {
     "data": {
      "text/html": [
       "<div>\n",
       "<style scoped>\n",
       "    .dataframe tbody tr th:only-of-type {\n",
       "        vertical-align: middle;\n",
       "    }\n",
       "\n",
       "    .dataframe tbody tr th {\n",
       "        vertical-align: top;\n",
       "    }\n",
       "\n",
       "    .dataframe thead th {\n",
       "        text-align: right;\n",
       "    }\n",
       "</style>\n",
       "<table border=\"1\" class=\"dataframe\">\n",
       "  <thead>\n",
       "    <tr style=\"text-align: right;\">\n",
       "      <th></th>\n",
       "      <th>v1</th>\n",
       "      <th>v2</th>\n",
       "      <th>Unnamed: 2</th>\n",
       "      <th>Unnamed: 3</th>\n",
       "      <th>Unnamed: 4</th>\n",
       "    </tr>\n",
       "  </thead>\n",
       "  <tbody>\n",
       "    <tr>\n",
       "      <th>0</th>\n",
       "      <td>ham</td>\n",
       "      <td>Go until jurong point, crazy.. Available only ...</td>\n",
       "      <td>NaN</td>\n",
       "      <td>NaN</td>\n",
       "      <td>NaN</td>\n",
       "    </tr>\n",
       "    <tr>\n",
       "      <th>1</th>\n",
       "      <td>ham</td>\n",
       "      <td>Ok lar... Joking wif u oni...</td>\n",
       "      <td>NaN</td>\n",
       "      <td>NaN</td>\n",
       "      <td>NaN</td>\n",
       "    </tr>\n",
       "    <tr>\n",
       "      <th>2</th>\n",
       "      <td>spam</td>\n",
       "      <td>Free entry in 2 a wkly comp to win FA Cup fina...</td>\n",
       "      <td>NaN</td>\n",
       "      <td>NaN</td>\n",
       "      <td>NaN</td>\n",
       "    </tr>\n",
       "    <tr>\n",
       "      <th>3</th>\n",
       "      <td>ham</td>\n",
       "      <td>U dun say so early hor... U c already then say...</td>\n",
       "      <td>NaN</td>\n",
       "      <td>NaN</td>\n",
       "      <td>NaN</td>\n",
       "    </tr>\n",
       "    <tr>\n",
       "      <th>4</th>\n",
       "      <td>ham</td>\n",
       "      <td>Nah I don't think he goes to usf, he lives aro...</td>\n",
       "      <td>NaN</td>\n",
       "      <td>NaN</td>\n",
       "      <td>NaN</td>\n",
       "    </tr>\n",
       "    <tr>\n",
       "      <th>...</th>\n",
       "      <td>...</td>\n",
       "      <td>...</td>\n",
       "      <td>...</td>\n",
       "      <td>...</td>\n",
       "      <td>...</td>\n",
       "    </tr>\n",
       "    <tr>\n",
       "      <th>5567</th>\n",
       "      <td>spam</td>\n",
       "      <td>This is the 2nd time we have tried 2 contact u...</td>\n",
       "      <td>NaN</td>\n",
       "      <td>NaN</td>\n",
       "      <td>NaN</td>\n",
       "    </tr>\n",
       "    <tr>\n",
       "      <th>5568</th>\n",
       "      <td>ham</td>\n",
       "      <td>Will Ì_ b going to esplanade fr home?</td>\n",
       "      <td>NaN</td>\n",
       "      <td>NaN</td>\n",
       "      <td>NaN</td>\n",
       "    </tr>\n",
       "    <tr>\n",
       "      <th>5569</th>\n",
       "      <td>ham</td>\n",
       "      <td>Pity, * was in mood for that. So...any other s...</td>\n",
       "      <td>NaN</td>\n",
       "      <td>NaN</td>\n",
       "      <td>NaN</td>\n",
       "    </tr>\n",
       "    <tr>\n",
       "      <th>5570</th>\n",
       "      <td>ham</td>\n",
       "      <td>The guy did some bitching but I acted like i'd...</td>\n",
       "      <td>NaN</td>\n",
       "      <td>NaN</td>\n",
       "      <td>NaN</td>\n",
       "    </tr>\n",
       "    <tr>\n",
       "      <th>5571</th>\n",
       "      <td>ham</td>\n",
       "      <td>Rofl. Its true to its name</td>\n",
       "      <td>NaN</td>\n",
       "      <td>NaN</td>\n",
       "      <td>NaN</td>\n",
       "    </tr>\n",
       "  </tbody>\n",
       "</table>\n",
       "<p>5572 rows × 5 columns</p>\n",
       "</div>"
      ],
      "text/plain": [
       "        v1                                                 v2 Unnamed: 2  \\\n",
       "0      ham  Go until jurong point, crazy.. Available only ...        NaN   \n",
       "1      ham                      Ok lar... Joking wif u oni...        NaN   \n",
       "2     spam  Free entry in 2 a wkly comp to win FA Cup fina...        NaN   \n",
       "3      ham  U dun say so early hor... U c already then say...        NaN   \n",
       "4      ham  Nah I don't think he goes to usf, he lives aro...        NaN   \n",
       "...    ...                                                ...        ...   \n",
       "5567  spam  This is the 2nd time we have tried 2 contact u...        NaN   \n",
       "5568   ham              Will Ì_ b going to esplanade fr home?        NaN   \n",
       "5569   ham  Pity, * was in mood for that. So...any other s...        NaN   \n",
       "5570   ham  The guy did some bitching but I acted like i'd...        NaN   \n",
       "5571   ham                         Rofl. Its true to its name        NaN   \n",
       "\n",
       "     Unnamed: 3 Unnamed: 4  \n",
       "0           NaN        NaN  \n",
       "1           NaN        NaN  \n",
       "2           NaN        NaN  \n",
       "3           NaN        NaN  \n",
       "4           NaN        NaN  \n",
       "...         ...        ...  \n",
       "5567        NaN        NaN  \n",
       "5568        NaN        NaN  \n",
       "5569        NaN        NaN  \n",
       "5570        NaN        NaN  \n",
       "5571        NaN        NaN  \n",
       "\n",
       "[5572 rows x 5 columns]"
      ]
     },
     "execution_count": 3,
     "metadata": {},
     "output_type": "execute_result"
    }
   ],
   "source": [
    "df=pd.read_csv(\"/kaggle/input/sms-spam-collection-dataset/spam.csv\",encoding=\"latin1\")\n",
    "df"
   ]
  },
  {
   "cell_type": "code",
   "execution_count": 4,
   "id": "5fb03252",
   "metadata": {
    "execution": {
     "iopub.execute_input": "2023-02-27T15:33:22.888451Z",
     "iopub.status.busy": "2023-02-27T15:33:22.887357Z",
     "iopub.status.idle": "2023-02-27T15:33:22.916904Z",
     "shell.execute_reply": "2023-02-27T15:33:22.915256Z"
    },
    "papermill": {
     "duration": 0.037842,
     "end_time": "2023-02-27T15:33:22.919596",
     "exception": false,
     "start_time": "2023-02-27T15:33:22.881754",
     "status": "completed"
    },
    "tags": []
   },
   "outputs": [
    {
     "name": "stdout",
     "output_type": "stream",
     "text": [
      "<class 'pandas.core.frame.DataFrame'>\n",
      "RangeIndex: 5572 entries, 0 to 5571\n",
      "Data columns (total 5 columns):\n",
      " #   Column      Non-Null Count  Dtype \n",
      "---  ------      --------------  ----- \n",
      " 0   v1          5572 non-null   object\n",
      " 1   v2          5572 non-null   object\n",
      " 2   Unnamed: 2  50 non-null     object\n",
      " 3   Unnamed: 3  12 non-null     object\n",
      " 4   Unnamed: 4  6 non-null      object\n",
      "dtypes: object(5)\n",
      "memory usage: 217.8+ KB\n"
     ]
    }
   ],
   "source": [
    "df.info()"
   ]
  },
  {
   "cell_type": "code",
   "execution_count": 5,
   "id": "559da70b",
   "metadata": {
    "execution": {
     "iopub.execute_input": "2023-02-27T15:33:22.929850Z",
     "iopub.status.busy": "2023-02-27T15:33:22.929440Z",
     "iopub.status.idle": "2023-02-27T15:33:22.940826Z",
     "shell.execute_reply": "2023-02-27T15:33:22.939593Z"
    },
    "papermill": {
     "duration": 0.01956,
     "end_time": "2023-02-27T15:33:22.943364",
     "exception": false,
     "start_time": "2023-02-27T15:33:22.923804",
     "status": "completed"
    },
    "tags": []
   },
   "outputs": [
    {
     "data": {
      "text/plain": [
       "v1               0\n",
       "v2               0\n",
       "Unnamed: 2    5522\n",
       "Unnamed: 3    5560\n",
       "Unnamed: 4    5566\n",
       "dtype: int64"
      ]
     },
     "execution_count": 5,
     "metadata": {},
     "output_type": "execute_result"
    }
   ],
   "source": [
    "df.isnull().sum()"
   ]
  },
  {
   "cell_type": "code",
   "execution_count": 6,
   "id": "024fa62f",
   "metadata": {
    "execution": {
     "iopub.execute_input": "2023-02-27T15:33:22.954824Z",
     "iopub.status.busy": "2023-02-27T15:33:22.954406Z",
     "iopub.status.idle": "2023-02-27T15:33:22.964498Z",
     "shell.execute_reply": "2023-02-27T15:33:22.963043Z"
    },
    "papermill": {
     "duration": 0.019281,
     "end_time": "2023-02-27T15:33:22.967147",
     "exception": false,
     "start_time": "2023-02-27T15:33:22.947866",
     "status": "completed"
    },
    "tags": []
   },
   "outputs": [
    {
     "data": {
      "text/plain": [
       "0       Go until jurong point, crazy.. Available only ...\n",
       "1                           Ok lar... Joking wif u oni...\n",
       "2       Free entry in 2 a wkly comp to win FA Cup fina...\n",
       "3       U dun say so early hor... U c already then say...\n",
       "4       Nah I don't think he goes to usf, he lives aro...\n",
       "                              ...                        \n",
       "5567    This is the 2nd time we have tried 2 contact u...\n",
       "5568                Will Ì_ b going to esplanade fr home?\n",
       "5569    Pity, * was in mood for that. So...any other s...\n",
       "5570    The guy did some bitching but I acted like i'd...\n",
       "5571                           Rofl. Its true to its name\n",
       "Name: v2, Length: 5572, dtype: object"
      ]
     },
     "execution_count": 6,
     "metadata": {},
     "output_type": "execute_result"
    }
   ],
   "source": [
    "x=df.v2\n",
    "x"
   ]
  },
  {
   "cell_type": "code",
   "execution_count": 7,
   "id": "2b8997cb",
   "metadata": {
    "execution": {
     "iopub.execute_input": "2023-02-27T15:33:22.978164Z",
     "iopub.status.busy": "2023-02-27T15:33:22.977762Z",
     "iopub.status.idle": "2023-02-27T15:33:22.986848Z",
     "shell.execute_reply": "2023-02-27T15:33:22.985496Z"
    },
    "papermill": {
     "duration": 0.017723,
     "end_time": "2023-02-27T15:33:22.989554",
     "exception": false,
     "start_time": "2023-02-27T15:33:22.971831",
     "status": "completed"
    },
    "tags": []
   },
   "outputs": [
    {
     "data": {
      "text/plain": [
       "0        ham\n",
       "1        ham\n",
       "2       spam\n",
       "3        ham\n",
       "4        ham\n",
       "        ... \n",
       "5567    spam\n",
       "5568     ham\n",
       "5569     ham\n",
       "5570     ham\n",
       "5571     ham\n",
       "Name: v1, Length: 5572, dtype: object"
      ]
     },
     "execution_count": 7,
     "metadata": {},
     "output_type": "execute_result"
    }
   ],
   "source": [
    "y=df.v1\n",
    "y"
   ]
  },
  {
   "cell_type": "code",
   "execution_count": 8,
   "id": "7730e19b",
   "metadata": {
    "execution": {
     "iopub.execute_input": "2023-02-27T15:33:23.001121Z",
     "iopub.status.busy": "2023-02-27T15:33:23.000691Z",
     "iopub.status.idle": "2023-02-27T15:33:23.015863Z",
     "shell.execute_reply": "2023-02-27T15:33:23.014328Z"
    },
    "papermill": {
     "duration": 0.024679,
     "end_time": "2023-02-27T15:33:23.018966",
     "exception": false,
     "start_time": "2023-02-27T15:33:22.994287",
     "status": "completed"
    },
    "tags": []
   },
   "outputs": [
    {
     "data": {
      "text/plain": [
       "0       1\n",
       "1       1\n",
       "2       0\n",
       "3       1\n",
       "4       1\n",
       "       ..\n",
       "5567    0\n",
       "5568    1\n",
       "5569    1\n",
       "5570    1\n",
       "5571    1\n",
       "Name: v1, Length: 5572, dtype: int64"
      ]
     },
     "execution_count": 8,
     "metadata": {},
     "output_type": "execute_result"
    }
   ],
   "source": [
    "y.replace(to_replace='ham',value=1,inplace=True)\n",
    "y.replace(to_replace='spam',value=0,inplace=True)\n",
    "y"
   ]
  },
  {
   "cell_type": "code",
   "execution_count": 9,
   "id": "fe4855b9",
   "metadata": {
    "execution": {
     "iopub.execute_input": "2023-02-27T15:33:23.030905Z",
     "iopub.status.busy": "2023-02-27T15:33:23.030491Z",
     "iopub.status.idle": "2023-02-27T15:33:23.040187Z",
     "shell.execute_reply": "2023-02-27T15:33:23.038855Z"
    },
    "papermill": {
     "duration": 0.019322,
     "end_time": "2023-02-27T15:33:23.043194",
     "exception": false,
     "start_time": "2023-02-27T15:33:23.023872",
     "status": "completed"
    },
    "tags": []
   },
   "outputs": [
    {
     "data": {
      "text/plain": [
       "1    4825\n",
       "0     747\n",
       "Name: v1, dtype: int64"
      ]
     },
     "execution_count": 9,
     "metadata": {},
     "output_type": "execute_result"
    }
   ],
   "source": [
    "y=df.v1\n",
    "y.value_counts()"
   ]
  },
  {
   "cell_type": "code",
   "execution_count": 10,
   "id": "23fd439c",
   "metadata": {
    "execution": {
     "iopub.execute_input": "2023-02-27T15:33:23.055561Z",
     "iopub.status.busy": "2023-02-27T15:33:23.055116Z",
     "iopub.status.idle": "2023-02-27T15:33:23.375924Z",
     "shell.execute_reply": "2023-02-27T15:33:23.374862Z"
    },
    "papermill": {
     "duration": 0.330295,
     "end_time": "2023-02-27T15:33:23.378532",
     "exception": false,
     "start_time": "2023-02-27T15:33:23.048237",
     "status": "completed"
    },
    "tags": []
   },
   "outputs": [
    {
     "data": {
      "text/plain": [
       "<AxesSubplot:xlabel='v1', ylabel='Count'>"
      ]
     },
     "execution_count": 10,
     "metadata": {},
     "output_type": "execute_result"
    },
    {
     "data": {
      "image/png": "[encoded data removed]",
      "text/plain": [
       "<Figure size 640x480 with 1 Axes>"
      ]
     },
     "metadata": {},
     "output_type": "display_data"
    }
   ],
   "source": [
    "sb.histplot(y)"
   ]
  },
  {
   "cell_type": "code",
   "execution_count": 11,
   "id": "8a5a23d3",
   "metadata": {
    "execution": {
     "iopub.execute_input": "2023-02-27T15:33:23.391915Z",
     "iopub.status.busy": "2023-02-27T15:33:23.390806Z",
     "iopub.status.idle": "2023-02-27T15:33:23.500046Z",
     "shell.execute_reply": "2023-02-27T15:33:23.498758Z"
    },
    "papermill": {
     "duration": 0.119353,
     "end_time": "2023-02-27T15:33:23.503373",
     "exception": false,
     "start_time": "2023-02-27T15:33:23.384020",
     "status": "completed"
    },
    "tags": []
   },
   "outputs": [],
   "source": [
    "from sklearn.model_selection import train_test_split\n",
    "x_train,x_test,y_train,y_test=train_test_split(x,y,train_size=0.9,random_state=25)"
   ]
  },
  {
   "cell_type": "code",
   "execution_count": 12,
   "id": "70ca50d8",
   "metadata": {
    "execution": {
     "iopub.execute_input": "2023-02-27T15:33:23.516514Z",
     "iopub.status.busy": "2023-02-27T15:33:23.515770Z",
     "iopub.status.idle": "2023-02-27T15:33:23.526396Z",
     "shell.execute_reply": "2023-02-27T15:33:23.525081Z"
    },
    "papermill": {
     "duration": 0.020633,
     "end_time": "2023-02-27T15:33:23.529396",
     "exception": false,
     "start_time": "2023-02-27T15:33:23.508763",
     "status": "completed"
    },
    "tags": []
   },
   "outputs": [],
   "source": [
    "gok= pd.concat([x_train, y_train], axis=1)\n",
    "\n",
    "# separate minority and majority classes\n",
    "spam = gok[gok.v1==0]\n",
    "ham = gok[gok.v1==1]"
   ]
  }
 ],
 "metadata": {
  "kernelspec": {
   "display_name": "Python 3",
   "language": "python",
   "name": "python3"
  },
  "language_info": {
   "codemirror_mode": {
    "name": "ipython",
    "version": 3
   },
   "file_extension": ".py",
   "mimetype": "text/x-python",
   "name": "python",
   "nbconvert_exporter": "python",
   "pygments_lexer": "ipython3",
   "version": "3.7.12"
  },
  "papermill": {
   "default_parameters": {},
   "duration": 14.128579,
   "end_time": "2023-02-27T15:33:24.359933",
   "environment_variables": {},
   "exception": null,
   "input_path": "__notebook__.ipynb",
   "output_path": "__notebook__.ipynb",
   "parameters": {},
   "start_time": "2023-02-27T15:33:10.231354",
   "version": "2.4.0"
  }
 },
 "nbformat": 4,
 "nbformat_minor": 5
}
